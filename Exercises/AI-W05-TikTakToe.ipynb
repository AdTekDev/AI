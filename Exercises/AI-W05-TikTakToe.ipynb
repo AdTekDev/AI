{
 "cells": [
  {
   "cell_type": "markdown",
   "id": "020ff4dd",
   "metadata": {},
   "source": [
    "# Tik Tak Toe \n",
    "\n",
    "Lần 1: (10%)\n",
    "1. 3x3\n",
    "2. 5x5\n",
    "3. 10x10\n",
    "- Người chơi với máy\n",
    "\n",
    "Lần 2: (30%)\n",
    "1. 100x100 \n",
    "2. 1000x1000 \n",
    "3. Heuristic + Alg\n",
    "- Máy chơi với máy (call APIs) - Team A vs Team B \n",
    "- Run (5đ)\n",
    "- Qua mỗi vòng + 1 điểm \n",
    "\n",
    "\n"
   ]
  },
  {
   "cell_type": "code",
   "execution_count": 10,
   "id": "8adbbfe3",
   "metadata": {},
   "outputs": [],
   "source": [
    "import numpy as np\n",
    "import math\n",
    "import random\n"
   ]
  },
  {
   "cell_type": "code",
   "execution_count": 2,
   "id": "bcedb74b",
   "metadata": {},
   "outputs": [],
   "source": [
    "N = 5\n",
    "rSize = 5  # số ô liên tiếp cho phép chiến thắng\n"
   ]
  },
  {
   "cell_type": "code",
   "execution_count": 3,
   "id": "26838840",
   "metadata": {},
   "outputs": [],
   "source": [
    "tiktaktoeBoard = np.zeros( (N, N) )"
   ]
  },
  {
   "cell_type": "code",
   "execution_count": 4,
   "id": "531977ce",
   "metadata": {},
   "outputs": [],
   "source": [
    "def  printState(xState):\n",
    "  print(\"\\n\\n\\n _____________________________ \")\n",
    "  #print(xState)\n",
    "  #print(\"\\n ....... \")\n",
    "  for row in xState:\n",
    "    s = \"\"\n",
    "    for cell in row:\n",
    "      curr = \"-\"\n",
    "      if (cell == 1):\n",
    "        curr = \"X\"\n",
    "      if (cell == 2):\n",
    "        curr = \"O\"\n",
    "      s += \"\\t\" + curr\n",
    "    print(s)\n",
    "  print(\"\\n ....... \")\n",
    "\n",
    "def  inputOPosition():\n",
    "  r = int ( input(\"Nhap ROW (<N): \") )\n",
    "  c = int ( input(\"Nhap COLUMN (<N): \") )\n",
    "  return (r,c)\n",
    "\n",
    "def  inputXY():\n",
    "  inXY = input(\"Nhap vi tri can Danh: ROW COLUMN (<N): \")\n",
    "  inXY = inXY.strip().split()\n",
    "  r = int ( inXY[0] )\n",
    "  c = int ( inXY[1] )\n",
    "  return (r,c)"
   ]
  },
  {
   "cell_type": "code",
   "execution_count": 5,
   "id": "bca43d77",
   "metadata": {},
   "outputs": [],
   "source": [
    "def  isWinner(x):\n",
    "  global N\n",
    "  global currentState\n",
    "  nWin = True \n",
    "  ## ROWs\n",
    "  i = 0\n",
    "  while ( nWin and (i < N) ):\n",
    "    sl = 0\n",
    "    for j in range(N):\n",
    "      if (currentState[i,j] == x):\n",
    "        sl += 1\n",
    "    if (sl == N):\n",
    "      nWin = False \n",
    "    i += 1\n",
    "  \n",
    "  ## Columns\n",
    "  i = 0\n",
    "  while ( nWin and (i < N) ):\n",
    "    sl = 0\n",
    "    for j in range(N):\n",
    "      if (currentState[j,i] == x):\n",
    "        sl += 1\n",
    "    if (sl == N):\n",
    "      nWin = False \n",
    "    i += 1\n",
    "  \n",
    "  ## cheo 1\n",
    "  sl = 0\n",
    "  for j in range(N):\n",
    "    if (currentState[j,j] == x):\n",
    "      sl += 1\n",
    "  if (sl == N):\n",
    "    nWin = False \n",
    "  \n",
    "  ## cheo 2\n",
    "  sl = 0\n",
    "  for j in range(N):\n",
    "    if (currentState[j,N-1-j] == x):\n",
    "      sl += 1\n",
    "  if (sl == N):\n",
    "    nWin = False \n",
    "\n",
    "  return not nWin\n",
    "  \n"
   ]
  },
  {
   "cell_type": "code",
   "execution_count": 6,
   "id": "60a3a64c",
   "metadata": {},
   "outputs": [],
   "source": [
    "## check \n",
    "\n",
    "def checkRCvalid(r,c):\n",
    "  flag = False\n",
    "  if (0 <= r  and r < N and 0<=c and c<N):\n",
    "    flag = True\n",
    "  return flag\n",
    "\n",
    "def checkAvailable(r,c):\n",
    "  flag = False\n",
    "  if (currentState[r,c] == 0):\n",
    "    flag = True\n",
    "  return flag"
   ]
  },
  {
   "cell_type": "markdown",
   "id": "83132b0e",
   "metadata": {},
   "source": [
    "## CODE sinh viên làm chính ở đây !!!"
   ]
  },
  {
   "cell_type": "code",
   "execution_count": 11,
   "id": "9d314a91",
   "metadata": {},
   "outputs": [],
   "source": [
    "def  selectSolution():\n",
    "    r = random.randint(0, N)\n",
    "    c = random.randint(0, N)\n",
    "    if (checkRCvalid(r,c)):\n",
    "        if ( checkAvailable(r,c) ):\n",
    "            currentState[r,c] = 1"
   ]
  },
  {
   "cell_type": "markdown",
   "id": "67293a5b",
   "metadata": {},
   "source": [
    "## Main Process"
   ]
  },
  {
   "cell_type": "code",
   "execution_count": 14,
   "id": "e1e182f0",
   "metadata": {},
   "outputs": [
    {
     "name": "stdout",
     "output_type": "stream",
     "text": [
      "\n",
      "\n",
      "\n",
      " _____________________________ \n",
      "\t-\t-\t-\t-\t-\n",
      "\t-\t-\t-\t-\t-\n",
      "\t-\t-\t-\t-\t-\n",
      "\t-\t-\t-\t-\t-\n",
      "\t-\t-\t-\t-\t-\n",
      "\n",
      " ....... \n",
      "\n",
      "\n",
      "\n",
      " _____________________________ \n",
      "\t-\t-\t-\t-\t-\n",
      "\t-\tX\t-\t-\t-\n",
      "\t-\t-\t-\t-\t-\n",
      "\t-\t-\t-\t-\t-\n",
      "\t-\t-\t-\t-\t-\n",
      "\n",
      " ....... \n",
      "Nhap vi tri can Danh: ROW COLUMN (<N): sdwq\n"
     ]
    },
    {
     "ename": "ValueError",
     "evalue": "invalid literal for int() with base 10: 'sdwq'",
     "output_type": "error",
     "traceback": [
      "\u001b[1;31m---------------------------------------------------------------------------\u001b[0m",
      "\u001b[1;31mValueError\u001b[0m                                Traceback (most recent call last)",
      "Cell \u001b[1;32mIn[14], line 14\u001b[0m\n\u001b[0;32m     11\u001b[0m printState(currentState)\n\u001b[0;32m     13\u001b[0m \u001b[38;5;66;03m## Người chơi\u001b[39;00m\n\u001b[1;32m---> 14\u001b[0m r,c \u001b[38;5;241m=\u001b[39m \u001b[43minputXY\u001b[49m\u001b[43m(\u001b[49m\u001b[43m)\u001b[49m   \u001b[38;5;66;03m# inputOPosition()\u001b[39;00m\n\u001b[0;32m     15\u001b[0m \u001b[38;5;28;01mif\u001b[39;00m (checkRCvalid(r,c)):\n\u001b[0;32m     16\u001b[0m   \u001b[38;5;28;01mif\u001b[39;00m ( checkAvailable(r,c) ):\n",
      "Cell \u001b[1;32mIn[4], line 25\u001b[0m, in \u001b[0;36minputXY\u001b[1;34m()\u001b[0m\n\u001b[0;32m     23\u001b[0m inXY \u001b[38;5;241m=\u001b[39m \u001b[38;5;28minput\u001b[39m(\u001b[38;5;124m\"\u001b[39m\u001b[38;5;124mNhap vi tri can Danh: ROW COLUMN (<N): \u001b[39m\u001b[38;5;124m\"\u001b[39m)\n\u001b[0;32m     24\u001b[0m inXY \u001b[38;5;241m=\u001b[39m inXY\u001b[38;5;241m.\u001b[39mstrip()\u001b[38;5;241m.\u001b[39msplit()\n\u001b[1;32m---> 25\u001b[0m r \u001b[38;5;241m=\u001b[39m \u001b[38;5;28;43mint\u001b[39;49m\u001b[43m \u001b[49m\u001b[43m(\u001b[49m\u001b[43m \u001b[49m\u001b[43minXY\u001b[49m\u001b[43m[\u001b[49m\u001b[38;5;241;43m0\u001b[39;49m\u001b[43m]\u001b[49m\u001b[43m \u001b[49m\u001b[43m)\u001b[49m\n\u001b[0;32m     26\u001b[0m c \u001b[38;5;241m=\u001b[39m \u001b[38;5;28mint\u001b[39m ( inXY[\u001b[38;5;241m1\u001b[39m] )\n\u001b[0;32m     27\u001b[0m \u001b[38;5;28;01mreturn\u001b[39;00m (r,c)\n",
      "\u001b[1;31mValueError\u001b[0m: invalid literal for int() with base 10: 'sdwq'"
     ]
    }
   ],
   "source": [
    "## Zero State \n",
    "currentState =   np.zeros(( N, N ))  # tiktaktoeBoard\n",
    "\n",
    "\n",
    "## Playing\n",
    "printState(currentState)\n",
    "\n",
    "while ( not (isWinner(1) or isWinner(2)) ):   \n",
    "  ## Máy chơi\n",
    "  selectSolution()  # Máy chọn nước đi kế tiếp\n",
    "  printState(currentState)\n",
    "\n",
    "  ## Người chơi\n",
    "  r,c = inputXY()   # inputOPosition()\n",
    "  if (checkRCvalid(r,c)):\n",
    "    if ( checkAvailable(r,c) ):\n",
    "      currentState[r,c] = 2\n",
    "      printState(currentState)\n",
    "    else:\n",
    "      print(\" ....... vi tri da DANH ! \")\n",
    "  else:\n",
    "    print(\" ...... r,c NGOAI pham vi \")\n",
    "\n",
    "\n",
    "if isWinner(1):\n",
    "    print(\"Player 1 la Nguoi THANG\")\n",
    "if isWinner(2):\n",
    "    print(\"Player 2 la Nguoi THANG\")"
   ]
  }
 ],
 "metadata": {
  "kernelspec": {
   "display_name": "Python 3 (ipykernel)",
   "language": "python",
   "name": "python3"
  },
  "language_info": {
   "codemirror_mode": {
    "name": "ipython",
    "version": 3
   },
   "file_extension": ".py",
   "mimetype": "text/x-python",
   "name": "python",
   "nbconvert_exporter": "python",
   "pygments_lexer": "ipython3",
   "version": "3.11.2"
  }
 },
 "nbformat": 4,
 "nbformat_minor": 5
}
