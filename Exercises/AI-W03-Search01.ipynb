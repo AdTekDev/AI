{
 "cells": [
  {
   "cell_type": "code",
   "execution_count": 10,
   "id": "ac744e79",
   "metadata": {},
   "outputs": [],
   "source": [
    "graph = {\n",
    "    \"Nodes\" : [1,2,3],\n",
    "    \"Edges\" : {\n",
    "        1 : [2,3],\n",
    "        2 : [3]\n",
    "    }\n",
    "}"
   ]
  },
  {
   "cell_type": "code",
   "execution_count": 11,
   "id": "e7b4074c",
   "metadata": {},
   "outputs": [
    {
     "data": {
      "text/plain": [
       "{'Nodes': [1, 2, 3], 'Edges': {1: [2, 3], 2: [3]}}"
      ]
     },
     "execution_count": 11,
     "metadata": {},
     "output_type": "execute_result"
    }
   ],
   "source": [
    "graph"
   ]
  },
  {
   "cell_type": "code",
   "execution_count": 13,
   "id": "87e402a4",
   "metadata": {},
   "outputs": [
    {
     "data": {
      "text/plain": [
       "[1, 2, 3]"
      ]
     },
     "execution_count": 13,
     "metadata": {},
     "output_type": "execute_result"
    }
   ],
   "source": [
    "graph[\"Nodes\"]"
   ]
  },
  {
   "cell_type": "code",
   "execution_count": 23,
   "id": "1a3c2503",
   "metadata": {},
   "outputs": [],
   "source": [
    "visitedNodes = []\n",
    "pathToGoal = {}\n",
    "\n",
    "def   DFS(xgraph, x, nGoal, level=0):\n",
    "    global visitedNodes\n",
    "    global pathToGoal\n",
    "    visitedNodes.append(x)\n",
    "    pathToGoal[level] = x\n",
    "    if (x == nGoal):\n",
    "        return True\n",
    "    else:\n",
    "        tt = False\n",
    "        i = 0\n",
    "        n = 0\n",
    "        childs = []\n",
    "        if (x in xgraph[\"Edges\"]):\n",
    "            childs = xgraph[\"Edges\"][x]\n",
    "            n = len(childs)\n",
    "        while (tt==False and i < n):\n",
    "            if (childs[i] in set(visitedNodes)):\n",
    "                tt = False\n",
    "            else:\n",
    "                tt = DFS(xgraph, childs[i], nGoal, level+1)\n",
    "            i += 1\n",
    "        return tt"
   ]
  },
  {
   "cell_type": "code",
   "execution_count": 25,
   "id": "0fedaa31",
   "metadata": {},
   "outputs": [],
   "source": [
    "kq = DFS(graph, 1, 3)"
   ]
  },
  {
   "cell_type": "code",
   "execution_count": 28,
   "id": "0faa274e",
   "metadata": {},
   "outputs": [
    {
     "data": {
      "text/plain": [
       "(True, {0: 's', 1: 'd', 2: 'e', 3: 'r', 4: 'f', 5: 'g'})"
      ]
     },
     "execution_count": 28,
     "metadata": {},
     "output_type": "execute_result"
    }
   ],
   "source": [
    "kq,  pathToGoal"
   ]
  },
  {
   "cell_type": "code",
   "execution_count": 18,
   "id": "1082c14b",
   "metadata": {},
   "outputs": [],
   "source": [
    "graph2 = {\n",
    "    \"Nodes\" : [\"a\", \"b\", \"c\", \"d\", \"e\", \"f\", \n",
    "               \"g\", \"h\", \"p\", \"q\", \"r\", \"s\"],\n",
    "    \"Edges\" : {\n",
    "        \"s\" : [\"d\", \"e\", \"p\"],\n",
    "        \"d\" : [\"b\", \"c\", \"e\"],\n",
    "        \"b\" : [\"a\"],\n",
    "        \"c\" : [\"a\"],\n",
    "        \"p\" : [\"q\"],\n",
    "        \"e\" : [\"h\", \"r\"],\n",
    "        \"h\" : [\"q\"],\n",
    "        \"r\" : [\"f\"],\n",
    "        \"f\" : [\"c\", \"g\"]\n",
    "    }\n",
    "}"
   ]
  },
  {
   "cell_type": "code",
   "execution_count": 27,
   "id": "157e0475",
   "metadata": {},
   "outputs": [],
   "source": [
    "kq = DFS(graph2, \"s\", \"g\")"
   ]
  }
 ],
 "metadata": {
  "kernelspec": {
   "display_name": "Python 3 (ipykernel)",
   "language": "python",
   "name": "python3"
  },
  "language_info": {
   "codemirror_mode": {
    "name": "ipython",
    "version": 3
   },
   "file_extension": ".py",
   "mimetype": "text/x-python",
   "name": "python",
   "nbconvert_exporter": "python",
   "pygments_lexer": "ipython3",
   "version": "3.10.9"
  }
 },
 "nbformat": 4,
 "nbformat_minor": 5
}
