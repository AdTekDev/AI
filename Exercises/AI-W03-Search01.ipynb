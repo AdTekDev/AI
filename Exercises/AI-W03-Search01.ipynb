{
 "cells": [
  {
   "cell_type": "code",
   "execution_count": 10,
   "id": "a6f2ed3e",
   "metadata": {},
   "outputs": [],
   "source": [
    "graph = {\n",
    "    \"Nodes\" : [1,2,3],\n",
    "    \"Edges\" : {\n",
    "        1 : [2,3],\n",
    "        2 : [3]\n",
    "    }\n",
    "}"
   ]
  },
  {
   "cell_type": "code",
   "execution_count": 11,
   "id": "f080fb3f",
   "metadata": {},
   "outputs": [
    {
     "data": {
      "text/plain": [
       "{'Nodes': [1, 2, 3], 'Edges': {1: [2, 3], 2: [3]}}"
      ]
     },
     "execution_count": 11,
     "metadata": {},
     "output_type": "execute_result"
    }
   ],
   "source": [
    "graph"
   ]
  },
  {
   "cell_type": "code",
   "execution_count": 13,
   "id": "bcf95ff6",
   "metadata": {},
   "outputs": [
    {
     "data": {
      "text/plain": [
       "[1, 2, 3]"
      ]
     },
     "execution_count": 13,
     "metadata": {},
     "output_type": "execute_result"
    }
   ],
   "source": [
    "graph[\"Nodes\"]"
   ]
  },
  {
   "cell_type": "code",
   "execution_count": 14,
   "id": "06463809",
   "metadata": {},
   "outputs": [],
   "source": [
    "visitedNodes = []\n",
    "pathToGoal = {}\n",
    "\n",
    "def   DFS(xgraph, x, nGoal, level=0):\n",
    "    global visitedNodes\n",
    "    global pathToGoal\n",
    "    visitedNodes.append(x)\n",
    "    pathToGoal[level] = x\n",
    "    if (x == nGoal):\n",
    "        return True\n",
    "    else:\n",
    "        tt = False\n",
    "        i = 0\n",
    "        n = 0\n",
    "        if ()\n",
    "        childs = xgraph[\"Edges\"][x]\n",
    "        n = len(childs)\n",
    "        while (tt==False and i < n):\n",
    "            if (childs[i] in set(visitedNodes)):\n",
    "                tt = False\n",
    "            else:\n",
    "                tt = DFS(xgraph, childs[i], nGoal, level+1)\n",
    "            i += 1\n",
    "        return tt"
   ]
  },
  {
   "cell_type": "code",
   "execution_count": 15,
   "id": "61ed3a81",
   "metadata": {},
   "outputs": [],
   "source": [
    "kq = DFS(graph, 1, 3)"
   ]
  },
  {
   "cell_type": "code",
   "execution_count": 16,
   "id": "91a93dc9",
   "metadata": {},
   "outputs": [
    {
     "data": {
      "text/plain": [
       "(True, {0: 1, 1: 2, 2: 3})"
      ]
     },
     "execution_count": 16,
     "metadata": {},
     "output_type": "execute_result"
    }
   ],
   "source": [
    "kq,  pathToGoal"
   ]
  },
  {
   "cell_type": "code",
   "execution_count": 18,
   "id": "a8a82488",
   "metadata": {},
   "outputs": [],
   "source": [
    "graph2 = {\n",
    "    \"Nodes\" : [\"a\", \"b\", \"c\", \"d\", \"e\", \"f\", \n",
    "               \"g\", \"h\", \"p\", \"q\", \"r\", \"s\"],\n",
    "    \"Edges\" : {\n",
    "        \"s\" : [\"d\", \"e\", \"p\"],\n",
    "        \"d\" : [\"b\", \"c\", \"e\"],\n",
    "        \"b\" : [\"a\"],\n",
    "        \"c\" : [\"a\"],\n",
    "        \"p\" : [\"q\"],\n",
    "        \"e\" : [\"h\", \"r\"],\n",
    "        \"h\" : [\"q\"],\n",
    "        \"r\" : [\"f\"],\n",
    "        \"f\" : [\"c\", \"g\"]\n",
    "    }\n",
    "}"
   ]
  },
  {
   "cell_type": "code",
   "execution_count": 19,
   "id": "7874e4af",
   "metadata": {},
   "outputs": [
    {
     "ename": "KeyError",
     "evalue": "'a'",
     "output_type": "error",
     "traceback": [
      "\u001b[1;31m---------------------------------------------------------------------------\u001b[0m",
      "\u001b[1;31mKeyError\u001b[0m                                  Traceback (most recent call last)",
      "Cell \u001b[1;32mIn[19], line 1\u001b[0m\n\u001b[1;32m----> 1\u001b[0m kq \u001b[38;5;241m=\u001b[39m \u001b[43mDFS\u001b[49m\u001b[43m(\u001b[49m\u001b[43mgraph2\u001b[49m\u001b[43m,\u001b[49m\u001b[43m \u001b[49m\u001b[38;5;124;43m\"\u001b[39;49m\u001b[38;5;124;43ms\u001b[39;49m\u001b[38;5;124;43m\"\u001b[39;49m\u001b[43m,\u001b[49m\u001b[43m \u001b[49m\u001b[38;5;124;43m\"\u001b[39;49m\u001b[38;5;124;43mg\u001b[39;49m\u001b[38;5;124;43m\"\u001b[39;49m\u001b[43m)\u001b[49m\n",
      "Cell \u001b[1;32mIn[14], line 20\u001b[0m, in \u001b[0;36mDFS\u001b[1;34m(xgraph, x, nGoal, level)\u001b[0m\n\u001b[0;32m     18\u001b[0m         tt \u001b[38;5;241m=\u001b[39m \u001b[38;5;28;01mFalse\u001b[39;00m\n\u001b[0;32m     19\u001b[0m     \u001b[38;5;28;01melse\u001b[39;00m:\n\u001b[1;32m---> 20\u001b[0m         tt \u001b[38;5;241m=\u001b[39m \u001b[43mDFS\u001b[49m\u001b[43m(\u001b[49m\u001b[43mxgraph\u001b[49m\u001b[43m,\u001b[49m\u001b[43m \u001b[49m\u001b[43mchilds\u001b[49m\u001b[43m[\u001b[49m\u001b[43mi\u001b[49m\u001b[43m]\u001b[49m\u001b[43m,\u001b[49m\u001b[43m \u001b[49m\u001b[43mnGoal\u001b[49m\u001b[43m,\u001b[49m\u001b[43m \u001b[49m\u001b[43mlevel\u001b[49m\u001b[38;5;241;43m+\u001b[39;49m\u001b[38;5;241;43m1\u001b[39;49m\u001b[43m)\u001b[49m\n\u001b[0;32m     21\u001b[0m     i \u001b[38;5;241m+\u001b[39m\u001b[38;5;241m=\u001b[39m \u001b[38;5;241m1\u001b[39m\n\u001b[0;32m     22\u001b[0m \u001b[38;5;28;01mreturn\u001b[39;00m tt\n",
      "Cell \u001b[1;32mIn[14], line 20\u001b[0m, in \u001b[0;36mDFS\u001b[1;34m(xgraph, x, nGoal, level)\u001b[0m\n\u001b[0;32m     18\u001b[0m         tt \u001b[38;5;241m=\u001b[39m \u001b[38;5;28;01mFalse\u001b[39;00m\n\u001b[0;32m     19\u001b[0m     \u001b[38;5;28;01melse\u001b[39;00m:\n\u001b[1;32m---> 20\u001b[0m         tt \u001b[38;5;241m=\u001b[39m \u001b[43mDFS\u001b[49m\u001b[43m(\u001b[49m\u001b[43mxgraph\u001b[49m\u001b[43m,\u001b[49m\u001b[43m \u001b[49m\u001b[43mchilds\u001b[49m\u001b[43m[\u001b[49m\u001b[43mi\u001b[49m\u001b[43m]\u001b[49m\u001b[43m,\u001b[49m\u001b[43m \u001b[49m\u001b[43mnGoal\u001b[49m\u001b[43m,\u001b[49m\u001b[43m \u001b[49m\u001b[43mlevel\u001b[49m\u001b[38;5;241;43m+\u001b[39;49m\u001b[38;5;241;43m1\u001b[39;49m\u001b[43m)\u001b[49m\n\u001b[0;32m     21\u001b[0m     i \u001b[38;5;241m+\u001b[39m\u001b[38;5;241m=\u001b[39m \u001b[38;5;241m1\u001b[39m\n\u001b[0;32m     22\u001b[0m \u001b[38;5;28;01mreturn\u001b[39;00m tt\n",
      "Cell \u001b[1;32mIn[14], line 20\u001b[0m, in \u001b[0;36mDFS\u001b[1;34m(xgraph, x, nGoal, level)\u001b[0m\n\u001b[0;32m     18\u001b[0m         tt \u001b[38;5;241m=\u001b[39m \u001b[38;5;28;01mFalse\u001b[39;00m\n\u001b[0;32m     19\u001b[0m     \u001b[38;5;28;01melse\u001b[39;00m:\n\u001b[1;32m---> 20\u001b[0m         tt \u001b[38;5;241m=\u001b[39m \u001b[43mDFS\u001b[49m\u001b[43m(\u001b[49m\u001b[43mxgraph\u001b[49m\u001b[43m,\u001b[49m\u001b[43m \u001b[49m\u001b[43mchilds\u001b[49m\u001b[43m[\u001b[49m\u001b[43mi\u001b[49m\u001b[43m]\u001b[49m\u001b[43m,\u001b[49m\u001b[43m \u001b[49m\u001b[43mnGoal\u001b[49m\u001b[43m,\u001b[49m\u001b[43m \u001b[49m\u001b[43mlevel\u001b[49m\u001b[38;5;241;43m+\u001b[39;49m\u001b[38;5;241;43m1\u001b[39;49m\u001b[43m)\u001b[49m\n\u001b[0;32m     21\u001b[0m     i \u001b[38;5;241m+\u001b[39m\u001b[38;5;241m=\u001b[39m \u001b[38;5;241m1\u001b[39m\n\u001b[0;32m     22\u001b[0m \u001b[38;5;28;01mreturn\u001b[39;00m tt\n",
      "Cell \u001b[1;32mIn[14], line 14\u001b[0m, in \u001b[0;36mDFS\u001b[1;34m(xgraph, x, nGoal, level)\u001b[0m\n\u001b[0;32m     12\u001b[0m tt \u001b[38;5;241m=\u001b[39m \u001b[38;5;28;01mFalse\u001b[39;00m\n\u001b[0;32m     13\u001b[0m i \u001b[38;5;241m=\u001b[39m \u001b[38;5;241m0\u001b[39m\n\u001b[1;32m---> 14\u001b[0m childs \u001b[38;5;241m=\u001b[39m \u001b[43mxgraph\u001b[49m\u001b[43m[\u001b[49m\u001b[38;5;124;43m\"\u001b[39;49m\u001b[38;5;124;43mEdges\u001b[39;49m\u001b[38;5;124;43m\"\u001b[39;49m\u001b[43m]\u001b[49m\u001b[43m[\u001b[49m\u001b[43mx\u001b[49m\u001b[43m]\u001b[49m\n\u001b[0;32m     15\u001b[0m n \u001b[38;5;241m=\u001b[39m \u001b[38;5;28mlen\u001b[39m(childs)\n\u001b[0;32m     16\u001b[0m \u001b[38;5;28;01mwhile\u001b[39;00m (tt\u001b[38;5;241m==\u001b[39m\u001b[38;5;28;01mFalse\u001b[39;00m \u001b[38;5;129;01mand\u001b[39;00m i \u001b[38;5;241m<\u001b[39m n):\n",
      "\u001b[1;31mKeyError\u001b[0m: 'a'"
     ]
    }
   ],
   "source": [
    "kq = DFS(graph2, \"s\", \"g\")"
   ]
  }
 ],
 "metadata": {
  "kernelspec": {
   "display_name": "Python 3 (ipykernel)",
   "language": "python",
   "name": "python3"
  },
  "language_info": {
   "codemirror_mode": {
    "name": "ipython",
    "version": 3
   },
   "file_extension": ".py",
   "mimetype": "text/x-python",
   "name": "python",
   "nbconvert_exporter": "python",
   "pygments_lexer": "ipython3",
   "version": "3.10.9"
  }
 },
 "nbformat": 4,
 "nbformat_minor": 5
}
